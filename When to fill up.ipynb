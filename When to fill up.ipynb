{
 "cells": [
  {
   "cell_type": "code",
   "execution_count": 46,
   "id": "40167e3e",
   "metadata": {},
   "outputs": [],
   "source": [
    "# Montecarlo simulation to evaluate when is the best time to fill up with gas\n",
    "# Assumptions: \n",
    "# - 15 gal gas tank\n",
    "# - Gas grices: 2.941 to 4.196 (Mar 2021 to Mar 2022) (https://ycharts.com/indicators/us_gas_price)\n",
    "# - Avg miles driven per year: 14,263 (https://www.thezebra.com/resources/driving/average-miles-driven-per-year/)\n",
    "\n",
    "import pandas as pd\n",
    "import numpy as np\n",
    "\n",
    "price_low = 2.941\n",
    "price_high = 4.196\n",
    "mpg = 23\n",
    "gal = 15\n",
    "gallons = 14263/mpg ## gallons needed per year at mpg\n"
   ]
  },
  {
   "cell_type": "code",
   "execution_count": 47,
   "id": "8bd11ffe",
   "metadata": {},
   "outputs": [],
   "source": [
    "#print(gallons)\n",
    "#print(gallons/15)"
   ]
  },
  {
   "cell_type": "code",
   "execution_count": 48,
   "id": "88fb1c4f",
   "metadata": {},
   "outputs": [],
   "source": [
    "# Function to calculate cost of filling up\n",
    "def Filling_Cost(gal,price):\n",
    "    # set random price \n",
    "    #price = np.random.uniform(price_low, price_high, 1)\n",
    "    \n",
    "    cost = gal*price\n",
    "    #print (cost)\n",
    "    return cost\n",
    "\n",
    "#Filling_Cost(15,4.196)\n"
   ]
  },
  {
   "cell_type": "code",
   "execution_count": 49,
   "id": "43629b71",
   "metadata": {},
   "outputs": [],
   "source": [
    "# Function to calculate full tank fill up\n",
    "def Full_Fill():\n",
    "    #gal = 15 # tank size\n",
    "    #x = 5\n",
    "    x = gallons/gal # Number of fillups needed per year\n",
    "    #print(x,gal)\n",
    "    cost_total = 0\n",
    "    cost_avg = 0\n",
    "    x1 = 0\n",
    "    while x1 < x:\n",
    "        price = np.random.uniform(price_low, price_high, 1)\n",
    "        #print(Filling_Cost(gal,price))\n",
    "        x1 += 1\n",
    "        cost_total += (Filling_Cost(gal,price))\n",
    "        #print(Filling_Cost(gal,price),cost_total)\n",
    "    cost_avg = cost_total/x\n",
    "    #print(cost_avg)\n",
    "    #print('Total cost filling always on empty: ', float(cost_total))\n",
    "    return cost_total\n",
    "\n",
    "#Full_Fill()"
   ]
  },
  {
   "cell_type": "code",
   "execution_count": 50,
   "id": "6ce4d31d",
   "metadata": {},
   "outputs": [],
   "source": [
    "# Function to calculate half tank fill up\n",
    "def Half_Fill():\n",
    "    gal = 7.5 # tank size\n",
    "    #x = 10\n",
    "    x = gallons/gal # Number of fillups needed per year\n",
    "    #print(gal)\n",
    "    #print(x,gal)\n",
    "    cost_total = 0\n",
    "    cost_avg = 0\n",
    "    x1 = 0\n",
    "    while x1 < x:\n",
    "        price = np.random.uniform(price_low, price_high, 1)\n",
    "        #print(Filling_Cost(gal,price))\n",
    "        x1 += 1\n",
    "        cost_total += (Filling_Cost(gal,price))\n",
    "        #print(Filling_Cost(gal,price),price,gal,cost_total)\n",
    "    #print(cost_total)\n",
    "    cost_avg = 2*(cost_total/x)\n",
    "    #print(cost_avg)\n",
    "    #print('Total cost filling always on half-empty: ', float(cost_total))\n",
    "    return cost_total\n",
    "\n",
    "#Half_Fill()"
   ]
  },
  {
   "cell_type": "code",
   "execution_count": 51,
   "id": "e612ea23",
   "metadata": {},
   "outputs": [
    {
     "name": "stdout",
     "output_type": "stream",
     "text": [
      "Average annual expense if filling\n",
      "- Full tank every time:  2249.13\n",
      "- Half tank every time:  2221.68\n",
      "- Difference:  27.45\n",
      "Assumptions:\n",
      "- Gas price range:  2.941 - 4.196\n",
      "- MPG:  23 mpg\n",
      "- Fuel tank size: 15 gallons\n"
     ]
    }
   ],
   "source": [
    "# multiple times\n",
    "mc = 0\n",
    "t = 5000\n",
    "total_half = 0\n",
    "total_full = 0\n",
    "\n",
    "while mc < t:\n",
    "    total_half += Half_Fill()\n",
    "    #Half_Fill()\n",
    "    mc+=1\n",
    "    \n",
    "mc = 0\n",
    "while mc < t:\n",
    "    total_full += Full_Fill()\n",
    "    mc+=1\n",
    "\n",
    "favg = total_full/t\n",
    "havg = total_half/t\n",
    "dif = favg-havg\n",
    "#print(total_full,favg)\n",
    "#print(total_half,havg)\n",
    "print('Average annual expense if filling')\n",
    "print('- Full tank every time: ',round(float(favg),2))\n",
    "print('- Half tank every time: ',round(float(havg),2))\n",
    "print('- Difference: ',round(float(dif),2))\n",
    "print('Assumptions:')\n",
    "print('- Gas price range: ',float(price_low), '-',float(price_high))\n",
    "print('- MPG: ',mpg,'mpg')\n",
    "print('- Fuel tank size:', gal,'gallons')"
   ]
  },
  {
   "cell_type": "code",
   "execution_count": null,
   "id": "71fd0a12",
   "metadata": {},
   "outputs": [],
   "source": []
  }
 ],
 "metadata": {
  "kernelspec": {
   "display_name": "Python 3 (ipykernel)",
   "language": "python",
   "name": "python3"
  },
  "language_info": {
   "codemirror_mode": {
    "name": "ipython",
    "version": 3
   },
   "file_extension": ".py",
   "mimetype": "text/x-python",
   "name": "python",
   "nbconvert_exporter": "python",
   "pygments_lexer": "ipython3",
   "version": "3.8.10"
  }
 },
 "nbformat": 4,
 "nbformat_minor": 5
}
