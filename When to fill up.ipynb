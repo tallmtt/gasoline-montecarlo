{
 "cells": [
  {
   "cell_type": "code",
   "execution_count": 172,
   "id": "40167e3e",
   "metadata": {},
   "outputs": [],
   "source": [
    "# Montecarlo simulation to evaluate when is the best time to fill up with gas\n",
    "# Assumptions: \n",
    "# - 15 gal gas tank\n",
    "# - Gas grices: 2.941 to 4.196 (Mar 2021 to Mar 2022) (https://ycharts.com/indicators/us_gas_price)\n",
    "# - Avg miles driven per year: 14,263 (https://www.thezebra.com/resources/driving/average-miles-driven-per-year/)\n",
    "\n",
    "import pandas as pd\n",
    "import numpy as np\n",
    "\n",
    "price_low = 2\n",
    "price_high = 5\n",
    "mpg = 23\n",
    "gallons = 14263/mpg ## gallons needed per year at mpg\n"
   ]
  },
  {
   "cell_type": "code",
   "execution_count": 173,
   "id": "8bd11ffe",
   "metadata": {},
   "outputs": [],
   "source": [
    "#print(gallons)\n",
    "#print(gallons/15)"
   ]
  },
  {
   "cell_type": "code",
   "execution_count": 174,
   "id": "88fb1c4f",
   "metadata": {},
   "outputs": [],
   "source": [
    "# Function to calculate cost of filling up\n",
    "def Filling_Cost(gal,price):\n",
    "    # set random price \n",
    "    #price = np.random.uniform(price_low, price_high, 1)\n",
    "    \n",
    "    cost = gal*price\n",
    "    #print (cost)\n",
    "    return cost\n",
    "\n",
    "#Filling_Cost(15,4.196)\n"
   ]
  },
  {
   "cell_type": "code",
   "execution_count": 176,
   "id": "43629b71",
   "metadata": {},
   "outputs": [],
   "source": [
    "# Function to calculate full tank fill up\n",
    "def Full_Fill():\n",
    "    gal = 15 # tank size\n",
    "    #x = 5\n",
    "    x = gallons/gal # Number of fillups needed per year\n",
    "    #print(x,gal)\n",
    "    cost_total = 0\n",
    "    cost_avg = 0\n",
    "    x1 = 0\n",
    "    while x1 < x:\n",
    "        price = np.random.uniform(price_low, price_high, 1)\n",
    "        #print(Filling_Cost(gal,price))\n",
    "        x1 += 1\n",
    "        cost_total += (Filling_Cost(gal,price))\n",
    "        #print(Filling_Cost(gal,price),cost_total)\n",
    "    cost_avg = cost_total/x\n",
    "    #print(cost_avg)\n",
    "    print('Total cost filling always on empty: ', float(cost_total))\n",
    "    return cost_total\n",
    "\n",
    "#Full_Fill()"
   ]
  },
  {
   "cell_type": "code",
   "execution_count": 177,
   "id": "6ce4d31d",
   "metadata": {},
   "outputs": [],
   "source": [
    "# Function to calculate half tank fill up\n",
    "def Half_Fill():\n",
    "    gal = 7.5 # tank size\n",
    "    #x = 10\n",
    "    x = gallons/gal # Number of fillups needed per year\n",
    "    #print(gal)\n",
    "    #print(x,gal)\n",
    "    cost_total = 0\n",
    "    cost_avg = 0\n",
    "    x1 = 0\n",
    "    while x1 < x:\n",
    "        price = np.random.uniform(price_low, price_high, 1)\n",
    "        #print(Filling_Cost(gal,price))\n",
    "        x1 += 1\n",
    "        cost_total += (Filling_Cost(gal,price))\n",
    "        #print(Filling_Cost(gal,price),price,gal,cost_total)\n",
    "    #print(cost_total)\n",
    "    cost_avg = 2*(cost_total/x)\n",
    "    #print(cost_avg)\n",
    "    print('Total cost filling always on half-empty: ', float(cost_total))\n",
    "    return cost_total\n",
    "\n",
    "#Half_Fill()"
   ]
  },
  {
   "cell_type": "code",
   "execution_count": 178,
   "id": "e612ea23",
   "metadata": {},
   "outputs": [
    {
     "name": "stdout",
     "output_type": "stream",
     "text": [
      "Total cost filling always on half-empty:  2107.5861101785213\n",
      "Total cost filling always on half-empty:  2216.1896131011767\n",
      "Total cost filling always on half-empty:  2278.916995702071\n",
      "Total cost filling always on half-empty:  2281.7562284283963\n",
      "Total cost filling always on half-empty:  2218.0794508346125\n",
      "Total cost filling always on empty:  2142.6782080076923\n",
      "Total cost filling always on empty:  2250.152647569823\n",
      "Total cost filling always on empty:  2086.1130268817697\n",
      "Total cost filling always on empty:  2189.3262089210775\n",
      "Total cost filling always on empty:  2169.232632491885\n"
     ]
    }
   ],
   "source": [
    "# multiple times\n",
    "mc = 0\n",
    "\n",
    "while mc < 5:\n",
    "    Half_Fill()\n",
    "    mc+=1\n",
    "\n",
    "mc = 0\n",
    "while mc < 5:\n",
    "    Full_Fill()\n",
    "    mc+=1\n"
   ]
  },
  {
   "cell_type": "code",
   "execution_count": null,
   "id": "f073a8a6",
   "metadata": {},
   "outputs": [],
   "source": []
  }
 ],
 "metadata": {
  "kernelspec": {
   "display_name": "Python 3 (ipykernel)",
   "language": "python",
   "name": "python3"
  },
  "language_info": {
   "codemirror_mode": {
    "name": "ipython",
    "version": 3
   },
   "file_extension": ".py",
   "mimetype": "text/x-python",
   "name": "python",
   "nbconvert_exporter": "python",
   "pygments_lexer": "ipython3",
   "version": "3.7.3"
  }
 },
 "nbformat": 4,
 "nbformat_minor": 5
}
